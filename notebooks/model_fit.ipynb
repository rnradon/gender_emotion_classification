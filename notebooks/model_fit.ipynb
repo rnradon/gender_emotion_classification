{
  "nbformat": 4,
  "nbformat_minor": 0,
  "metadata": {
    "colab": {
      "name": "model_fit.ipynb",
      "version": "0.3.2",
      "provenance": [],
      "collapsed_sections": []
    },
    "kernelspec": {
      "name": "python3",
      "display_name": "Python 3"
    },
    "accelerator": "GPU"
  },
  "cells": [
    {
      "cell_type": "code",
      "metadata": {
        "id": "cCGvSdiImpCL",
        "colab_type": "code",
        "outputId": "9c6c9d10-ae28-475b-c7d7-09e0d9c6ca1b",
        "colab": {
          "base_uri": "https://localhost:8080/",
          "height": 54
        }
      },
      "source": [
        "from google.colab import drive\n",
        "drive.mount('/content/gdrive')"
      ],
      "execution_count": 0,
      "outputs": [
        {
          "output_type": "stream",
          "text": [
            "Drive already mounted at /content/gdrive; to attempt to forcibly remount, call drive.mount(\"/content/gdrive\", force_remount=True).\n"
          ],
          "name": "stdout"
        }
      ]
    },
    {
      "cell_type": "code",
      "metadata": {
        "id": "KgOxk0Y2mr2Y",
        "colab_type": "code",
        "outputId": "f3687c07-1857-427f-dcdd-e414d764aca6",
        "colab": {
          "base_uri": "https://localhost:8080/",
          "height": 34
        }
      },
      "source": [
        "%cd /content/gdrive/My\\ Drive"
      ],
      "execution_count": 0,
      "outputs": [
        {
          "output_type": "stream",
          "text": [
            "/content/gdrive/My Drive\n"
          ],
          "name": "stdout"
        }
      ]
    },
    {
      "cell_type": "code",
      "metadata": {
        "id": "i0Dzi_PMmzVB",
        "colab_type": "code",
        "outputId": "db5bc893-8a65-43b4-ab0e-300edcc8b708",
        "colab": {
          "base_uri": "https://localhost:8080/",
          "height": 34
        }
      },
      "source": [
        "%cd gender_emotion_classification/"
      ],
      "execution_count": 0,
      "outputs": [
        {
          "output_type": "stream",
          "text": [
            "/content/gdrive/My Drive/gender_emotion_classification\n"
          ],
          "name": "stdout"
        }
      ]
    },
    {
      "cell_type": "code",
      "metadata": {
        "id": "3RVicH1km1P2",
        "colab_type": "code",
        "outputId": "2e03a3e0-197e-4795-c771-05aad783170b",
        "colab": {
          "base_uri": "https://localhost:8080/",
          "height": 34
        }
      },
      "source": [
        "import keras\n",
        "from keras import optimizers\n",
        "from keras.callbacks import ReduceLROnPlateau, EarlyStopping, TensorBoard, ModelCheckpoint\n",
        "# import sys\n",
        "# sys.path.append(\"../models\")\n",
        "from model import neural_net\n",
        "\n"
      ],
      "execution_count": 0,
      "outputs": [
        {
          "output_type": "stream",
          "text": [
            "Using TensorFlow backend.\n"
          ],
          "name": "stderr"
        }
      ]
    },
    {
      "cell_type": "code",
      "metadata": {
        "id": "vpGu_7Kom2kn",
        "colab_type": "code",
        "outputId": "23a30b7b-527b-41b5-84c2-9c619b573ac2",
        "colab": {
          "base_uri": "https://localhost:8080/",
          "height": 88
        }
      },
      "source": [
        "# hyper parameters\n",
        "num_classes = 2\n",
        "epochs = 100\n",
        "batch_size =20\n",
        "lr = 0.001\n",
        "input_shape = (98,3761,1)\n",
        "model = neural_net.first_deep_cnn(num_classes, input_shape)\n",
        "\n",
        "lr_reducer = ReduceLROnPlateau(monitor='val_loss', factor=0.9, patience=3)\n",
        "early_stopper = EarlyStopping(monitor='val_acc', min_delta=0, patience=6, mode='auto')\n",
        "adam = optimizers.Adam(lr=lr)\n",
        "\n",
        "callbacks = [early_stopper, lr_reducer]\n",
        "\n",
        "model.compile(optimizer = adam,loss = \"binary_crossentropy\",metrics = ['accuracy'])"
      ],
      "execution_count": 0,
      "outputs": [
        {
          "output_type": "stream",
          "text": [
            "WARNING:tensorflow:From /usr/local/lib/python3.6/dist-packages/tensorflow/python/framework/op_def_library.py:263: colocate_with (from tensorflow.python.framework.ops) is deprecated and will be removed in a future version.\n",
            "Instructions for updating:\n",
            "Colocations handled automatically by placer.\n"
          ],
          "name": "stdout"
        }
      ]
    },
    {
      "cell_type": "code",
      "metadata": {
        "id": "ozyzYV2Dm39a",
        "colab_type": "code",
        "colab": {}
      },
      "source": [
        "from utils import *"
      ],
      "execution_count": 0,
      "outputs": []
    },
    {
      "cell_type": "code",
      "metadata": {
        "id": "QVnnF43zm6O3",
        "colab_type": "code",
        "colab": {}
      },
      "source": [
        "x_train, x_test, y_train, y_test = import_data(file_path=\"data/imdb_crop/gender_grayscale.csv\", dataset_name=\"imdb\")"
      ],
      "execution_count": 0,
      "outputs": []
    },
    {
      "cell_type": "code",
      "metadata": {
        "id": "KceTWyIPm84p",
        "colab_type": "code",
        "outputId": "8244eec9-1575-4973-b15c-b21c06f7f010",
        "colab": {
          "base_uri": "https://localhost:8080/",
          "height": 1071
        }
      },
      "source": [
        "x_train"
      ],
      "execution_count": 0,
      "outputs": [
        {
          "output_type": "execute_result",
          "data": {
            "text/plain": [
              "0         [[15 14 14 ...  9  9  9]\\n [14 15 15 ...  9  9...\n",
              "1         [[144 143 145 ...  59  54  50]\\n [146 147 150 ...\n",
              "2         [[103 103 103 ... 180 180 175]\\n [103 103 103 ...\n",
              "3         [[172 165 155 ... 172 174 176]\\n [175 165 153 ...\n",
              "4         [[143 155 165 ...  71  68  65]\\n [132 148 164 ...\n",
              "5         [[ 21  21  21 ... 103 100 100]\\n [ 21  21  21 ...\n",
              "6         [[236 236 236 ... 233 233 233]\\n [236 236 236 ...\n",
              "7         [[239 239 239 ... 239 239 239]\\n [239 239 239 ...\n",
              "8         [[90 84 79 ... 10 12 13]\\n [88 83 78 ...  9 11...\n",
              "9         [[225 225 225 ... 221 221 221]\\n [225 225 225 ...\n",
              "10        [[ 6  6  6 ...  5  5  5]\\n [ 6  6  6 ...  5  5...\n",
              "11        [[30 30 30 ... 20 21 22]\\n [24 24 24 ... 21 21...\n",
              "12        [[  9   9   9 ...   8   8   8]\\n [  9   9   9 ...\n",
              "13        [[20 20 20 ... 14 14 14]\\n [20 20 20 ... 14 14...\n",
              "14        [[16 15 15 ... 89 92 94]\\n [16 15 15 ... 89 91...\n",
              "15        [[47 47 48 ...  4  8 10]\\n [46 47 47 ... 15 21...\n",
              "16        [[110 106  99 ... 158 149 137]\\n [113 109 102 ...\n",
              "17        [[ 51  35  19 ...  20  21  21]\\n [ 50  34  19 ...\n",
              "18        [[26 29 32 ... 13 12 12]\\n [27 29 32 ... 13 12...\n",
              "19        [[ 37  48  55 ...  71  68  65]\\n [ 63  58  52 ...\n",
              "20        [[ 44  44  45 ...  56  55  54]\\n [ 44  44  44 ...\n",
              "21        [[ 0  7  7 ...  0  0  0]\\n [ 6 21 15 ...  0  0...\n",
              "22        [[30 30 30 ... 80 86 88]\\n [30 30 30 ... 80 86...\n",
              "23        [[29 29 29 ... 44 50 47]\\n [29 29 29 ... 57 50...\n",
              "24        [[18 19 20 ... 31 30 29]\\n [16 17 18 ... 28 28...\n",
              "25        [[ 4  4  4 ...  4  4  4]\\n [ 4  4  4 ...  4  4...\n",
              "26        [[88 87 84 ... 20 20 20]\\n [88 86 83 ... 21 20...\n",
              "27        [[ 56  56  57 ... 142 132 135]\\n [ 55  56  57 ...\n",
              "28        [[129 128 127 ...  86  84  90]\\n [ 91  78  70 ...\n",
              "29        [[112 107  91 ...  91  73  54]\\n [ 71 128 154 ...\n",
              "                                ...                        \n",
              "368548    [[ 84  77  71 ...  29  26  26]\\n [ 80  74  69 ...\n",
              "368549    [[232 232 232 ... 246 246 246]\\n [232 232 232 ...\n",
              "368550    [[128 125 120 ...  37  37  37]\\n [130 127 124 ...\n",
              "368551    [[ 59  49  39 ... 101  98  93]\\n [ 58  47  38 ...\n",
              "368552    [[116  99  76 ... 109 128 105]\\n [ 90 110  81 ...\n",
              "368553    [[ 78  78  78 ...  77  77  77]\\n [ 78  78  78 ...\n",
              "368554    [[ 25  24  20 ... 208 207 205]\\n [ 25  24  20 ...\n",
              "368555    [[0 0 0 ... 0 0 0]\\n [0 0 0 ... 0 0 0]\\n [0 0 ...\n",
              "368556    [[ 92  92  92 ...  82  83  84]\\n [ 92  92  92 ...\n",
              "368557    [[198 198 198 ...   7   6   5]\\n [198 198 197 ...\n",
              "368558    [[ 69  68  68 ... 154 155 156]\\n [ 69  68  68 ...\n",
              "368559    [[ 82  88  81 ... 127 132 147]\\n [ 65  70  66 ...\n",
              "368560    [[106 106 107 ...  62  63  63]\\n [106 106 107 ...\n",
              "368561    [[40 40 40 ... 77 77 77]\\n [40 40 40 ... 77 77...\n",
              "368562    [[54 51 48 ... 58 54 51]\\n [55 54 54 ... 65 63...\n",
              "368563    [[ 94  99 103 ...  38  40  41]\\n [ 95  99 102 ...\n",
              "368564    [[102 145 198 ... 196 208 216]\\n [107 160 223 ...\n",
              "368565    [[ 90  90  90 ...  54  65  72]\\n [ 91  91  91 ...\n",
              "368566    [[ 69  69  69 ... 172 172 172]\\n [ 69  69  70 ...\n",
              "368567    [[ 25  25  26 ... 255 255 255]\\n [ 24  25  25 ...\n",
              "368568    [[55 55 55 ... 12 13 14]\\n [55 55 55 ... 13 14...\n",
              "368569    [[  3   7   8 ...  39  42  42]\\n [  2   8  17 ...\n",
              "368570    [[128 128 128 ... 163 163 163]\\n [128 128 129 ...\n",
              "368571    [[ 44  51  55 ... 203 203 203]\\n [ 49  54  56 ...\n",
              "368572    [[ 78  78  78 ... 215 139  87]\\n [ 78  78  78 ...\n",
              "368573    [[ 61  61  62 ...  82  78  77]\\n [ 64  64  64 ...\n",
              "368574    [[124 114 115 ... 118 166 201]\\n [158 142 122 ...\n",
              "368575    [[108 108 108 ... 179 165 189]\\n [108 108 108 ...\n",
              "368576    [[107 106  72 ... 102  85  57]\\n [121 114  79 ...\n",
              "368577    [[39 37 35 ... 38 37 37]\\n [38 37 37 ... 41 41...\n",
              "Name: grayscale_array, Length: 368578, dtype: object"
            ]
          },
          "metadata": {
            "tags": []
          },
          "execution_count": 23
        }
      ]
    },
    {
      "cell_type": "code",
      "metadata": {
        "id": "5h6qK2AZnBDi",
        "colab_type": "code",
        "outputId": "c5441fa4-fca7-4011-9e29-9300e48185d8",
        "colab": {
          "base_uri": "https://localhost:8080/",
          "height": 1071
        }
      },
      "source": [
        "y_train"
      ],
      "execution_count": 0,
      "outputs": [
        {
          "output_type": "execute_result",
          "data": {
            "text/plain": [
              "0         1.0\n",
              "1         1.0\n",
              "2         1.0\n",
              "3         1.0\n",
              "4         1.0\n",
              "5         0.0\n",
              "6         0.0\n",
              "7         0.0\n",
              "8         0.0\n",
              "9         0.0\n",
              "10        0.0\n",
              "11        0.0\n",
              "12        0.0\n",
              "13        0.0\n",
              "14        0.0\n",
              "15        0.0\n",
              "16        0.0\n",
              "17        0.0\n",
              "18        0.0\n",
              "19        0.0\n",
              "20        0.0\n",
              "21        0.0\n",
              "22        0.0\n",
              "23        0.0\n",
              "24        0.0\n",
              "25        0.0\n",
              "26        0.0\n",
              "27        0.0\n",
              "28        0.0\n",
              "29        0.0\n",
              "         ... \n",
              "368548    0.0\n",
              "368549    0.0\n",
              "368550    0.0\n",
              "368551    0.0\n",
              "368552    0.0\n",
              "368553    0.0\n",
              "368554    0.0\n",
              "368555    0.0\n",
              "368556    0.0\n",
              "368557    1.0\n",
              "368558    1.0\n",
              "368559    1.0\n",
              "368560    1.0\n",
              "368561    1.0\n",
              "368562    1.0\n",
              "368563    1.0\n",
              "368564    1.0\n",
              "368565    1.0\n",
              "368566    1.0\n",
              "368567    1.0\n",
              "368568    1.0\n",
              "368569    1.0\n",
              "368570    1.0\n",
              "368571    1.0\n",
              "368572    1.0\n",
              "368573    1.0\n",
              "368574    1.0\n",
              "368575    1.0\n",
              "368576    1.0\n",
              "368577    1.0\n",
              "Name: gender, Length: 368578, dtype: float64"
            ]
          },
          "metadata": {
            "tags": []
          },
          "execution_count": 24
        }
      ]
    },
    {
      "cell_type": "code",
      "metadata": {
        "id": "lgtiIRw4q885",
        "colab_type": "code",
        "outputId": "f3eac38f-191e-4c9c-ab21-a5c8fea80961",
        "colab": {
          "base_uri": "https://localhost:8080/",
          "height": 198
        }
      },
      "source": [
        "import numpy as np\n",
        "x_train = x_train.values.reshape(-1,98,3761,1)"
      ],
      "execution_count": 0,
      "outputs": [
        {
          "output_type": "error",
          "ename": "ValueError",
          "evalue": "ignored",
          "traceback": [
            "\u001b[0;31m---------------------------------------------------------------------------\u001b[0m",
            "\u001b[0;31mValueError\u001b[0m                                Traceback (most recent call last)",
            "\u001b[0;32m<ipython-input-25-0a13f45b494b>\u001b[0m in \u001b[0;36m<module>\u001b[0;34m()\u001b[0m\n\u001b[1;32m      1\u001b[0m \u001b[0;32mimport\u001b[0m \u001b[0mnumpy\u001b[0m \u001b[0;32mas\u001b[0m \u001b[0mnp\u001b[0m\u001b[0;34m\u001b[0m\u001b[0;34m\u001b[0m\u001b[0m\n\u001b[1;32m      2\u001b[0m \u001b[0mx_train\u001b[0m \u001b[0;34m=\u001b[0m \u001b[0mx_train\u001b[0m\u001b[0;34m.\u001b[0m\u001b[0mvalues\u001b[0m\u001b[0;34m.\u001b[0m\u001b[0mreshape\u001b[0m\u001b[0;34m(\u001b[0m\u001b[0;34m-\u001b[0m\u001b[0;36m1\u001b[0m\u001b[0;34m,\u001b[0m\u001b[0;36m98\u001b[0m\u001b[0;34m,\u001b[0m\u001b[0;36m3761\u001b[0m\u001b[0;34m,\u001b[0m\u001b[0;36m1\u001b[0m\u001b[0;34m)\u001b[0m\u001b[0;34m\u001b[0m\u001b[0;34m\u001b[0m\u001b[0m\n\u001b[0;32m----> 3\u001b[0;31m \u001b[0my_train\u001b[0m \u001b[0;34m=\u001b[0m \u001b[0my_train\u001b[0m\u001b[0;34m.\u001b[0m\u001b[0mvalues\u001b[0m\u001b[0;34m.\u001b[0m\u001b[0mreshape\u001b[0m\u001b[0;34m(\u001b[0m\u001b[0;36m116\u001b[0m\u001b[0;34m,\u001b[0m\u001b[0;36m1\u001b[0m\u001b[0;34m)\u001b[0m\u001b[0;34m\u001b[0m\u001b[0;34m\u001b[0m\u001b[0m\n\u001b[0m",
            "\u001b[0;31mValueError\u001b[0m: cannot reshape array of size 368578 into shape (116,1)"
          ]
        }
      ]
    },
    {
      "cell_type": "code",
      "metadata": {
        "id": "SaxpND26uPb2",
        "colab_type": "code",
        "colab": {}
      },
      "source": [
        "y_train = y_train.values.reshape(-1,98)"
      ],
      "execution_count": 0,
      "outputs": []
    },
    {
      "cell_type": "code",
      "metadata": {
        "id": "aI2JFYjKnEDm",
        "colab_type": "code",
        "outputId": "0bccf362-7054-45b2-fda6-ab540b8dea35",
        "colab": {
          "base_uri": "https://localhost:8080/",
          "height": 344
        }
      },
      "source": [
        "# num_classes = 2\n",
        "# epochs = 100\n",
        "# batch_size =20\n",
        "# lr = 0.001\n",
        "\n",
        "model.fit(x=x_train, y=y_train, batch_size=batch_size, epochs=epochs, verbose=1, callbacks=callbacks, validation_split=0.2, validation_data=[x_test, y_test])"
      ],
      "execution_count": 0,
      "outputs": [
        {
          "output_type": "error",
          "ename": "ValueError",
          "evalue": "ignored",
          "traceback": [
            "\u001b[0;31m---------------------------------------------------------------------------\u001b[0m",
            "\u001b[0;31mValueError\u001b[0m                                Traceback (most recent call last)",
            "\u001b[0;32m<ipython-input-27-ac51d136863b>\u001b[0m in \u001b[0;36m<module>\u001b[0;34m()\u001b[0m\n\u001b[1;32m      1\u001b[0m \u001b[0;34m\u001b[0m\u001b[0m\n\u001b[0;32m----> 2\u001b[0;31m \u001b[0mmodel\u001b[0m\u001b[0;34m.\u001b[0m\u001b[0mfit\u001b[0m\u001b[0;34m(\u001b[0m\u001b[0mx\u001b[0m\u001b[0;34m=\u001b[0m\u001b[0mx_train\u001b[0m\u001b[0;34m,\u001b[0m \u001b[0my\u001b[0m\u001b[0;34m=\u001b[0m\u001b[0my_train\u001b[0m\u001b[0;34m,\u001b[0m \u001b[0mbatch_size\u001b[0m\u001b[0;34m=\u001b[0m\u001b[0mbatch_size\u001b[0m\u001b[0;34m,\u001b[0m \u001b[0mepochs\u001b[0m\u001b[0;34m=\u001b[0m\u001b[0mepochs\u001b[0m\u001b[0;34m,\u001b[0m \u001b[0mverbose\u001b[0m\u001b[0;34m=\u001b[0m\u001b[0;36m1\u001b[0m\u001b[0;34m,\u001b[0m \u001b[0mcallbacks\u001b[0m\u001b[0;34m=\u001b[0m\u001b[0mcallbacks\u001b[0m\u001b[0;34m,\u001b[0m \u001b[0mvalidation_split\u001b[0m\u001b[0;34m=\u001b[0m\u001b[0;36m0.2\u001b[0m\u001b[0;34m,\u001b[0m \u001b[0mvalidation_data\u001b[0m\u001b[0;34m=\u001b[0m\u001b[0;34m[\u001b[0m\u001b[0mx_test\u001b[0m\u001b[0;34m,\u001b[0m \u001b[0my_test\u001b[0m\u001b[0;34m]\u001b[0m\u001b[0;34m)\u001b[0m\u001b[0;34m\u001b[0m\u001b[0;34m\u001b[0m\u001b[0m\n\u001b[0m",
            "\u001b[0;32m/usr/local/lib/python3.6/dist-packages/keras/engine/training.py\u001b[0m in \u001b[0;36mfit\u001b[0;34m(self, x, y, batch_size, epochs, verbose, callbacks, validation_split, validation_data, shuffle, class_weight, sample_weight, initial_epoch, steps_per_epoch, validation_steps, **kwargs)\u001b[0m\n\u001b[1;32m    950\u001b[0m             \u001b[0msample_weight\u001b[0m\u001b[0;34m=\u001b[0m\u001b[0msample_weight\u001b[0m\u001b[0;34m,\u001b[0m\u001b[0;34m\u001b[0m\u001b[0;34m\u001b[0m\u001b[0m\n\u001b[1;32m    951\u001b[0m             \u001b[0mclass_weight\u001b[0m\u001b[0;34m=\u001b[0m\u001b[0mclass_weight\u001b[0m\u001b[0;34m,\u001b[0m\u001b[0;34m\u001b[0m\u001b[0;34m\u001b[0m\u001b[0m\n\u001b[0;32m--> 952\u001b[0;31m             batch_size=batch_size)\n\u001b[0m\u001b[1;32m    953\u001b[0m         \u001b[0;31m# Prepare validation data.\u001b[0m\u001b[0;34m\u001b[0m\u001b[0;34m\u001b[0m\u001b[0;34m\u001b[0m\u001b[0m\n\u001b[1;32m    954\u001b[0m         \u001b[0mdo_validation\u001b[0m \u001b[0;34m=\u001b[0m \u001b[0;32mFalse\u001b[0m\u001b[0;34m\u001b[0m\u001b[0;34m\u001b[0m\u001b[0m\n",
            "\u001b[0;32m/usr/local/lib/python3.6/dist-packages/keras/engine/training.py\u001b[0m in \u001b[0;36m_standardize_user_data\u001b[0;34m(self, x, y, sample_weight, class_weight, check_array_lengths, batch_size)\u001b[0m\n\u001b[1;32m    787\u001b[0m                 \u001b[0mfeed_output_shapes\u001b[0m\u001b[0;34m,\u001b[0m\u001b[0;34m\u001b[0m\u001b[0;34m\u001b[0m\u001b[0m\n\u001b[1;32m    788\u001b[0m                 \u001b[0mcheck_batch_axis\u001b[0m\u001b[0;34m=\u001b[0m\u001b[0;32mFalse\u001b[0m\u001b[0;34m,\u001b[0m  \u001b[0;31m# Don't enforce the batch size.\u001b[0m\u001b[0;34m\u001b[0m\u001b[0;34m\u001b[0m\u001b[0m\n\u001b[0;32m--> 789\u001b[0;31m                 exception_prefix='target')\n\u001b[0m\u001b[1;32m    790\u001b[0m \u001b[0;34m\u001b[0m\u001b[0m\n\u001b[1;32m    791\u001b[0m             \u001b[0;31m# Generate sample-wise weight values given the `sample_weight` and\u001b[0m\u001b[0;34m\u001b[0m\u001b[0;34m\u001b[0m\u001b[0;34m\u001b[0m\u001b[0m\n",
            "\u001b[0;32m/usr/local/lib/python3.6/dist-packages/keras/engine/training_utils.py\u001b[0m in \u001b[0;36mstandardize_input_data\u001b[0;34m(data, names, shapes, check_batch_axis, exception_prefix)\u001b[0m\n\u001b[1;32m    136\u001b[0m                             \u001b[0;34m': expected '\u001b[0m \u001b[0;34m+\u001b[0m \u001b[0mnames\u001b[0m\u001b[0;34m[\u001b[0m\u001b[0mi\u001b[0m\u001b[0;34m]\u001b[0m \u001b[0;34m+\u001b[0m \u001b[0;34m' to have shape '\u001b[0m \u001b[0;34m+\u001b[0m\u001b[0;34m\u001b[0m\u001b[0;34m\u001b[0m\u001b[0m\n\u001b[1;32m    137\u001b[0m                             \u001b[0mstr\u001b[0m\u001b[0;34m(\u001b[0m\u001b[0mshape\u001b[0m\u001b[0;34m)\u001b[0m \u001b[0;34m+\u001b[0m \u001b[0;34m' but got array with shape '\u001b[0m \u001b[0;34m+\u001b[0m\u001b[0;34m\u001b[0m\u001b[0;34m\u001b[0m\u001b[0m\n\u001b[0;32m--> 138\u001b[0;31m                             str(data_shape))\n\u001b[0m\u001b[1;32m    139\u001b[0m     \u001b[0;32mreturn\u001b[0m \u001b[0mdata\u001b[0m\u001b[0;34m\u001b[0m\u001b[0;34m\u001b[0m\u001b[0m\n\u001b[1;32m    140\u001b[0m \u001b[0;34m\u001b[0m\u001b[0m\n",
            "\u001b[0;31mValueError\u001b[0m: Error when checking target: expected predictions to have shape (116,) but got array with shape (98,)"
          ]
        }
      ]
    },
    {
      "cell_type": "code",
      "metadata": {
        "id": "7q0lxn4jrcF0",
        "colab_type": "code",
        "colab": {}
      },
      "source": [
        ""
      ],
      "execution_count": 0,
      "outputs": []
    }
  ]
}