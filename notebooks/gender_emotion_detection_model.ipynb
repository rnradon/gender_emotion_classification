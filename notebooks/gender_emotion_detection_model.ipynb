{
 "cells": [
  {
   "cell_type": "code",
   "execution_count": 1,
   "metadata": {
    "colab": {},
    "colab_type": "code",
    "id": "dNkfFFRpwAd2"
   },
   "outputs": [
    {
     "name": "stderr",
     "output_type": "stream",
     "text": [
      "Using TensorFlow backend.\n",
      "/Users/radon/miniconda3/envs/tensorflow/lib/python3.5/importlib/_bootstrap.py:222: RuntimeWarning: compiletime version 3.6 of module 'tensorflow.python.framework.fast_tensor_util' does not match runtime version 3.5\n",
      "  return f(*args, **kwds)\n"
     ]
    }
   ],
   "source": [
    "# import tensorflow as tf\n",
    "import keras as k\n",
    "from keras.models import Sequential\n",
    "from keras.layers import Dense,Activation,Conv2D,MaxPooling2D,BatchNormalization,GlobalAveragePooling2D,Flatten\n",
    "from keras import optimizers\n",
    "from keras.callbacks import ReduceLROnPlateau, EarlyStopping, TensorBoard, ModelCheckpoint"
   ]
  },
  {
   "cell_type": "code",
   "execution_count": 2,
   "metadata": {
    "colab": {},
    "colab_type": "code",
    "id": "0ZhYkXgBJHxT"
   },
   "outputs": [],
   "source": [
    "# hyper parameters\n",
    "num_classes = 2\n",
    "epochs = 100\n",
    "batch_size =20\n",
    "lr = 0.001"
   ]
  },
  {
   "cell_type": "code",
   "execution_count": 3,
   "metadata": {
    "colab": {},
    "colab_type": "code",
    "id": "uRV3k9LQwdiJ"
   },
   "outputs": [],
   "source": [
    "model = Sequential()\n",
    "\n",
    "# layer 1\n",
    "model.add(Conv2D(32,(3,3),padding = 'same',activation = 'relu',input_shape = (64,64,1),name = 'c1'))\n",
    "model.add(BatchNormalization())\n",
    "model.add(MaxPooling2D(pool_size = (2,2),name = 'mp1'))\n",
    "\n",
    "# layer 2\n",
    "model.add(Conv2D(64,(3,3),padding = 'same',activation = 'relu',name = 'c2'))\n",
    "model.add(BatchNormalization())\n",
    "model.add(MaxPooling2D(pool_size = (2,2),name = 'mp2'))\n",
    "\n",
    "# layer 3\n",
    "model.add(Conv2D(128,(3,3),padding = 'same',activation = 'relu',name = 'c3'))\n",
    "model.add(BatchNormalization())\n",
    "model.add(MaxPooling2D(pool_size = (2,2),name = 'mp3'))\n",
    "\n",
    "# layer 4\n",
    "model.add(Conv2D(256,(3,3),padding = 'same',activation = 'relu',name = 'c4'))\n",
    "model.add(BatchNormalization())\n",
    "model.add(MaxPooling2D(pool_size = (2,2),name = 'mp4'))\n",
    "# layer 5\n",
    "model.add(Conv2D(512,(3,3),padding = 'same',activation = 'relu',name = 'c5'))\n",
    "model.add(BatchNormalization())\n",
    "model.add(MaxPooling2D(pool_size = (2,2),name = 'mp5'))\n",
    "\n",
    "# layer 6\n",
    "model.add(Conv2D(256,(3,3),padding = 'same',activation = 'relu',name = 'c6'))\n",
    "model.add(BatchNormalization())\n",
    "model.add(MaxPooling2D(pool_size = (2,2),name = 'mp6'))\n",
    "\n",
    "# # layer 7\n",
    "# model.add(Conv2D(128,(3,3),padding = 'same',activation = 'relu',name = 'c7'))\n",
    "# model.add(BatchNormalization())\n",
    "# model.add(MaxPooling2D(pool_size = (2,2),name = 'mp7'))\n",
    "\n",
    "# # layer 8\n",
    "# model.add(Conv2D(64,(3,3),padding = 'same',activation = 'relu',name = 'c8'))\n",
    "# model.add(BatchNormalization())\n",
    "# model.add(MaxPooling2D(pool_size = (2,2),name = 'mp8'))\n",
    "\n",
    "# layer 9\n",
    "model.add(Conv2D(num_classes,(3,3),padding = 'same',activation = 'relu',name = 'c9'))\n",
    "model.add(Flatten())\n",
    "#model.add(GlobalAveragePooling2D())\n",
    "model.add(Activation('softmax', name='predictions'))\n",
    "\n"
   ]
  },
  {
   "cell_type": "code",
   "execution_count": 4,
   "metadata": {
    "colab": {
     "base_uri": "https://localhost:8080/",
     "height": 857
    },
    "colab_type": "code",
    "id": "kLPP_USSwml1",
    "outputId": "2d3da516-0e01-46b5-bb8d-b736fbd87f4e"
   },
   "outputs": [
    {
     "name": "stdout",
     "output_type": "stream",
     "text": [
      "_________________________________________________________________\n",
      "Layer (type)                 Output Shape              Param #   \n",
      "=================================================================\n",
      "c1 (Conv2D)                  (None, 64, 64, 32)        320       \n",
      "_________________________________________________________________\n",
      "batch_normalization_1 (Batch (None, 64, 64, 32)        128       \n",
      "_________________________________________________________________\n",
      "mp1 (MaxPooling2D)           (None, 32, 32, 32)        0         \n",
      "_________________________________________________________________\n",
      "c2 (Conv2D)                  (None, 32, 32, 64)        18496     \n",
      "_________________________________________________________________\n",
      "batch_normalization_2 (Batch (None, 32, 32, 64)        256       \n",
      "_________________________________________________________________\n",
      "mp2 (MaxPooling2D)           (None, 16, 16, 64)        0         \n",
      "_________________________________________________________________\n",
      "c3 (Conv2D)                  (None, 16, 16, 128)       73856     \n",
      "_________________________________________________________________\n",
      "batch_normalization_3 (Batch (None, 16, 16, 128)       512       \n",
      "_________________________________________________________________\n",
      "mp3 (MaxPooling2D)           (None, 8, 8, 128)         0         \n",
      "_________________________________________________________________\n",
      "c4 (Conv2D)                  (None, 8, 8, 256)         295168    \n",
      "_________________________________________________________________\n",
      "batch_normalization_4 (Batch (None, 8, 8, 256)         1024      \n",
      "_________________________________________________________________\n",
      "mp4 (MaxPooling2D)           (None, 4, 4, 256)         0         \n",
      "_________________________________________________________________\n",
      "c5 (Conv2D)                  (None, 4, 4, 512)         1180160   \n",
      "_________________________________________________________________\n",
      "batch_normalization_5 (Batch (None, 4, 4, 512)         2048      \n",
      "_________________________________________________________________\n",
      "mp5 (MaxPooling2D)           (None, 2, 2, 512)         0         \n",
      "_________________________________________________________________\n",
      "c6 (Conv2D)                  (None, 2, 2, 256)         1179904   \n",
      "_________________________________________________________________\n",
      "batch_normalization_6 (Batch (None, 2, 2, 256)         1024      \n",
      "_________________________________________________________________\n",
      "mp6 (MaxPooling2D)           (None, 1, 1, 256)         0         \n",
      "_________________________________________________________________\n",
      "c9 (Conv2D)                  (None, 1, 1, 2)           4610      \n",
      "_________________________________________________________________\n",
      "flatten_1 (Flatten)          (None, 2)                 0         \n",
      "_________________________________________________________________\n",
      "predictions (Activation)     (None, 2)                 0         \n",
      "=================================================================\n",
      "Total params: 2,757,506\n",
      "Trainable params: 2,755,010\n",
      "Non-trainable params: 2,496\n",
      "_________________________________________________________________\n",
      "None\n"
     ]
    }
   ],
   "source": [
    "lr_reducer = ReduceLROnPlateau(monitor='val_loss', factor=0.9, patience=3)\n",
    "early_stopper = EarlyStopping(monitor='val_acc', min_delta=0, patience=6, mode='auto')\n",
    "adam = optimizers.Adam(lr=lr)\n",
    "model.compile(optimizer = adam,loss = \"binary_crossentropy\",metrics = ['accuracy'])\n",
    "print(model.summary())"
   ]
  },
  {
   "cell_type": "code",
   "execution_count": null,
   "metadata": {
    "colab": {},
    "colab_type": "code",
    "id": "i0qiqVsZLYG4"
   },
   "outputs": [],
   "source": []
  }
 ],
 "metadata": {
  "accelerator": "TPU",
  "colab": {
   "name": "gender emotion detection.ipynb",
   "provenance": [],
   "version": "0.3.2"
  },
  "kernelspec": {
   "display_name": "Python 3",
   "language": "python",
   "name": "python3"
  },
  "language_info": {
   "codemirror_mode": {
    "name": "ipython",
    "version": 3
   },
   "file_extension": ".py",
   "mimetype": "text/x-python",
   "name": "python",
   "nbconvert_exporter": "python",
   "pygments_lexer": "ipython3",
   "version": "3.5.6"
  }
 },
 "nbformat": 4,
 "nbformat_minor": 1
}
